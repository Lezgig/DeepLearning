{
 "cells": [
  {
   "cell_type": "code",
   "execution_count": null,
   "id": "64a94c45-a52c-4254-aaaa-031668fddf68",
   "metadata": {},
   "outputs": [],
   "source": [
    "!pip install minio delta-spark==2.2.0"
   ]
  },
  {
   "cell_type": "code",
   "execution_count": null,
   "id": "c96d25f6-6ff5-4250-8aa9-9b5d05abc41b",
   "metadata": {},
   "outputs": [],
   "source": [
    "from minio import Minio"
   ]
  },
  {
   "cell_type": "code",
   "execution_count": null,
   "id": "d4631241-d8d6-4293-bf7d-ee5cc1d8539d",
   "metadata": {},
   "outputs": [],
   "source": []
  }
 ],
 "metadata": {
  "kernelspec": {
   "display_name": "Python 3 (ipykernel)",
   "language": "python",
   "name": "python3"
  },
  "language_info": {
   "name": ""
  }
 },
 "nbformat": 4,
 "nbformat_minor": 5
}
